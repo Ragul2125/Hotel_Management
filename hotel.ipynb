{
 "cells": [
  {
   "cell_type": "code",
   "execution_count": null,
   "id": "1c8e6dce",
   "metadata": {},
   "outputs": [],
   "source": [
    "from datetime import datetime\n",
    "\n",
    "\n",
    "rooms = []\n",
    "bookings = []\n",
    "\n",
    "def add_room(room_number, room_type, price_per_night):\n",
    "    for room in rooms:\n",
    "        if room[\"room_number\"] == room_number:\n",
    "            print(\"Error: Room number already exists!\")\n",
    "            return\n",
    "    rooms.append({\n",
    "        \"room_number\": room_number,\n",
    "        \"room_type\": room_type,\n",
    "        \"price_per_night\": price_per_night,\n",
    "        \"is_available\": True\n",
    "    })\n",
    "    print(f\"Room {room_number} added successfully!\")\n",
    "\n",
    "def view_rooms():\n",
    "    print(\"\\n--- Rooms List ---\")\n",
    "    for room in rooms:\n",
    "        status = \"Available\" if room[\"is_available\"] else \"Booked\"\n",
    "        print(f\"Room {room['room_number']}: Type {room['room_type']}, Price ${room['price_per_night']}, Status: {status}\")\n",
    "\n",
    "def book_room(customer_name, room_number, check_in, check_out):\n",
    "    for room in rooms:\n",
    "        if room[\"room_number\"] == room_number:\n",
    "            if room[\"is_available\"]:\n",
    "                total_days = (datetime.strptime(check_out, \"%Y-%m-%d\") - datetime.strptime(check_in, \"%Y-%m-%d\")).days\n",
    "                total_price = total_days * room[\"price_per_night\"]\n",
    "                bookings.append({\n",
    "                    \"customer_name\": customer_name,\n",
    "                    \"room_number\": room_number,\n",
    "                    \"check_in\": check_in,\n",
    "                    \"check_out\": check_out,\n",
    "                    \"total_price\": total_price\n",
    "                })\n",
    "                room[\"is_available\"] = False\n",
    "                print(f\"Room {room_number} booked successfully for {customer_name}!\")\n",
    "                return\n",
    "            else:\n",
    "                print(\"Error: Room is already booked!\")\n",
    "                return\n",
    "    print(\"Error: Room number does not exist!\")\n",
    "\n",
    "def view_bookings():\n",
    "    print(\"\\n--- Bookings List ---\")\n",
    "    for booking in bookings:\n",
    "        print(f\"Customer: {booking['customer_name']}, Room: {booking['room_number']}, \"\n",
    "              f\"Check-in: {booking['check_in']}, Check-out: {booking['check_out']}, \"\n",
    "              f\"Price: ${booking['total_price']}\")\n",
    "\n",
    "def main_menu():\n",
    "    while True:\n",
    "        print(\"\\n--- Hotel Management System ---\")\n",
    "        print(\"1. Add Room\")\n",
    "        print(\"2. View Rooms\")\n",
    "        print(\"3. Book Room\")\n",
    "        print(\"4. View Bookings\")\n",
    "        print(\"5. Exit\")\n",
    "        \n",
    "        choice = input(\"Enter your choice: \")\n",
    "        if choice == \"1\":\n",
    "            room_number = input(\"Enter room number: \")\n",
    "            room_type = input(\"Enter room type (e.g., Deluxe, Suite): \")\n",
    "            price_per_night = float(input(\"Enter price per night: \"))\n",
    "            add_room(room_number, room_type, price_per_night)\n",
    "        elif choice == \"2\":\n",
    "            view_rooms()\n",
    "        elif choice == \"3\":\n",
    "            customer_name = input(\"Enter customer name: \")\n",
    "            room_number = input(\"Enter room number to book: \")\n",
    "            check_in = input(\"Enter check-in date (YYYY-MM-DD): \")\n",
    "            check_out = input(\"Enter check-out date (YYYY-MM-DD): \")\n",
    "            book_room(customer_name, room_number, check_in, check_out)\n",
    "        elif choice == \"4\":\n",
    "            view_bookings()\n",
    "        elif choice == \"5\":\n",
    "            print(\"Exiting the system. Goodbye!\")\n",
    "            break\n",
    "        else:\n",
    "            print(\"Invalid choice! Please try again.\")\n",
    "\n",
    "if __name__ == \"__main__\":\n",
    "    main_menu()\n"
   ]
  },
  {
   "cell_type": "code",
   "execution_count": 1,
   "id": "db554b67",
   "metadata": {},
   "outputs": [
    {
     "ename": "SyntaxError",
     "evalue": "invalid syntax (3277417328.py, line 1)",
     "output_type": "error",
     "traceback": [
      "\u001b[1;36m  Cell \u001b[1;32mIn[1], line 1\u001b[1;36m\u001b[0m\n\u001b[1;33m    git init\u001b[0m\n\u001b[1;37m        ^\u001b[0m\n\u001b[1;31mSyntaxError\u001b[0m\u001b[1;31m:\u001b[0m invalid syntax\n"
     ]
    }
   ],
   "source": [
    "git init\n"
   ]
  },
  {
   "cell_type": "code",
   "execution_count": null,
   "id": "34d0510b",
   "metadata": {},
   "outputs": [],
   "source": []
  },
  {
   "cell_type": "code",
   "execution_count": null,
   "id": "978fa620",
   "metadata": {},
   "outputs": [],
   "source": []
  },
  {
   "cell_type": "code",
   "execution_count": null,
   "id": "f8f81d61",
   "metadata": {},
   "outputs": [],
   "source": []
  },
  {
   "cell_type": "code",
   "execution_count": null,
   "id": "ca759fa3",
   "metadata": {},
   "outputs": [],
   "source": []
  }
 ],
 "metadata": {
  "kernelspec": {
   "display_name": "Python 3 (ipykernel)",
   "language": "python",
   "name": "python3"
  },
  "language_info": {
   "codemirror_mode": {
    "name": "ipython",
    "version": 3
   },
   "file_extension": ".py",
   "mimetype": "text/x-python",
   "name": "python",
   "nbconvert_exporter": "python",
   "pygments_lexer": "ipython3",
   "version": "3.11.5"
  }
 },
 "nbformat": 4,
 "nbformat_minor": 5
}
